{
 "cells": [
  {
   "cell_type": "code",
   "execution_count": null,
   "id": "540996e8-0a47-4506-ae30-f799053e6bad",
   "metadata": {},
   "outputs": [],
   "source": [
    "Q1. List any five functions of the pandas library with execution.\n",
    "Ans1-"
   ]
  },
  {
   "cell_type": "code",
   "execution_count": null,
   "id": "8017d127-e1e9-4c28-b3df-b7b082448690",
   "metadata": {},
   "outputs": [],
   "source": [
    "\n",
    "1. `read_csv()`: This function is used to read a CSV file and create a pandas DataFrame.\n",
    "\n",
    "\n",
    "import pandas as pd\n",
    "\n",
    "\n",
    "data = pd.read_csv('data.csv')\n",
    "\n",
    "\n",
    "print(data.head())\n",
    "\n",
    "\n",
    "2. `head()`: This function returns the first n rows of a DataFrame. By default, it returns the first five rows.\n",
    "\n",
    "\n",
    "import pandas as pd\n",
    "\n",
    "\n",
    "data = {'Name': ['Ajit', 'Rahul', 'Ankur', 'Rajat', 'Shiv'],\n",
    "        'Age': [25, 28, 32, 27, 30],\n",
    "        'City': ['Varanasi', 'Haryana', 'Gorakhpur', 'Mirzapur', 'Kailash']}\n",
    "\n",
    "df = pd.DataFrame(data)\n",
    "\n",
    "print(df.head(3))\n",
    "\n",
    "\n",
    "3. `info()`: This function provides a concise summary of a DataFrame, including the column names, data types, and non-null counts.\n",
    "\n",
    "\n",
    "import pandas as pd\n",
    "\n",
    "# Create a DataFrame\n",
    "data = {'Name': ['Ajit', 'Rahul', 'Ankur'],\n",
    "        'Age': [25, 28, 32],\n",
    "        'City': ['Varanasi', 'Haryana', 'Gorkhpur']}\n",
    "\n",
    "df = pd.DataFrame(data)\n",
    "\n",
    "\n",
    "df.info()\n",
    "\n",
    "\n",
    "4. `describe()`: This function generates descriptive statistics of a DataFrame, including count, mean, standard deviation, minimum, quartiles,\n",
    "and maximum values.\n",
    "\n",
    "\n",
    "import pandas as pd\n",
    "\n",
    "\n",
    "data = {'Age': [25, 28, 32, 27, 30]}\n",
    "\n",
    "df = pd.DataFrame(data)\n",
    "\n",
    "print(df.describe())\n",
    "\n",
    "\n",
    "5. `groupby()`: This function is used for grouping rows based on specified criteria. \n",
    "It is often followed by an aggregation function to perform calculations on the grouped data.\n",
    "\n",
    "\n",
    "import pandas as pd\n",
    "\n",
    "\n",
    "data = {'Name': ['Ajit', 'Rahul', 'Ankur', 'Rajat', 'Shiv'],\n",
    "        'City': ['Varanasi', 'Haryana', 'Gorakhpur', 'Mirzapur', 'Kailash'],\n",
    "        'Salary': [50000, 60000, 55000, 70000, 65000]}\n",
    "\n",
    "df = pd.DataFrame(data)\n",
    "\n",
    "\n",
    "grouped_data = df.groupby('City').mean()\n",
    "\n",
    "\n",
    "print(grouped_data)\n",
    "\n"
   ]
  },
  {
   "cell_type": "code",
   "execution_count": null,
   "id": "6cb8538b-d4b8-41e7-b0dd-4d328d47a937",
   "metadata": {},
   "outputs": [],
   "source": [
    "Q2. Given a Pandas DataFrame df with columns 'A', 'B', and 'C', write a Python function to re-index the\n",
    "DataFrame with a new index that starts from 1 and increments by 2 for each row.\n",
    "Ans2-"
   ]
  },
  {
   "cell_type": "code",
   "execution_count": 2,
   "id": "95ba895c-9f60-45f3-9f74-e7ec9247b955",
   "metadata": {},
   "outputs": [
    {
     "name": "stdout",
     "output_type": "stream",
     "text": [
      "           A  B  C\n",
      "new_index         \n",
      "1          1  4  7\n",
      "3          2  5  8\n",
      "5          3  6  9\n"
     ]
    }
   ],
   "source": [
    "import pandas as pd\n",
    "\n",
    "def reindex_dataframe(df):\n",
    "    new_index = pd.Index(range(1, len(df) * 2 + 1, 2), name='new_index')\n",
    "    return df.set_index(new_index)\n",
    "\n",
    "# Example usage\n",
    "df = pd.DataFrame({'A': [1, 2, 3], 'B': [4, 5, 6], 'C': [7, 8, 9]})\n",
    "new_df = reindex_dataframe(df)\n",
    "print(new_df)\n"
   ]
  },
  {
   "cell_type": "code",
   "execution_count": null,
   "id": "0243fc77-761c-4a0a-9912-d9e0062b4113",
   "metadata": {},
   "outputs": [],
   "source": [
    "Q3. You have a Pandas DataFrame df with a column named 'Values'. Write a Python function that\n",
    "iterates over the DataFrame and calculates the sum of the first three values in the 'Values' column. The\n",
    "function should print the sum to the console.\n",
    "For example, if the 'Values' column of df contains the values [10, 20, 30, 40, 50], your function should\n",
    "calculate and print the sum of the first three values, which is 60.\n",
    "\n",
    "Ans3-"
   ]
  },
  {
   "cell_type": "code",
   "execution_count": 3,
   "id": "91742cd9-3eb3-4e4d-9796-a6409d4ce8a4",
   "metadata": {},
   "outputs": [],
   "source": [
    "import pandas as pd\n",
    "\n",
    "def calculate_sum_of_first_three(df):\n",
    "    values_column = df['Values']\n",
    "    sum_of_first_three = sum(values_column[:3])\n",
    "    print(\"Sum of the first three values:\", sum_of_first_three)\n"
   ]
  },
  {
   "cell_type": "code",
   "execution_count": 4,
   "id": "1c3f2b16-ebdf-4b75-96c9-6a57fb7726a8",
   "metadata": {},
   "outputs": [
    {
     "name": "stdout",
     "output_type": "stream",
     "text": [
      "Sum of the first three values: 60\n"
     ]
    }
   ],
   "source": [
    "import pandas as pd\n",
    "\n",
    "data = {'Values': [10, 20, 30, 40, 50]}\n",
    "df = pd.DataFrame(data)\n",
    "\n",
    "\n",
    "calculate_sum_of_first_three(df)\n"
   ]
  },
  {
   "cell_type": "code",
   "execution_count": null,
   "id": "b1b2b9d7-a094-4c99-9383-a2e0d3c02157",
   "metadata": {},
   "outputs": [],
   "source": [
    "Q4. Given a Pandas DataFrame df with a column 'Text', write a Python function to create a new column\n",
    "'Word_Count' that contains the number of words in each row of the 'Text' column.\n",
    "Ans4-"
   ]
  },
  {
   "cell_type": "code",
   "execution_count": 5,
   "id": "e6a66d90-34c4-406d-9fd0-76b4223338ff",
   "metadata": {},
   "outputs": [],
   "source": [
    "import pandas as pd\n",
    "\n",
    "def add_word_count(df):\n",
    "    \n",
    "    df['Word_Count'] = df['Text'].apply(lambda x: len(str(x).split()))\n",
    "\n",
    "    return df\n"
   ]
  },
  {
   "cell_type": "code",
   "execution_count": 6,
   "id": "818e22be-da11-4f1f-b26f-74f8927bdb2b",
   "metadata": {},
   "outputs": [
    {
     "name": "stdout",
     "output_type": "stream",
     "text": [
      "                               Text  Word_Count\n",
      "0            This is a sample text.           5\n",
      "1  Another example with more words.           5\n"
     ]
    }
   ],
   "source": [
    "\n",
    "df = pd.DataFrame({'Text': ['This is a sample text.', 'Another example with more words.']})\n",
    "\n",
    "\n",
    "df = add_word_count(df)\n",
    "\n",
    "\n",
    "print(df)\n"
   ]
  },
  {
   "cell_type": "code",
   "execution_count": null,
   "id": "76b82250-c935-435d-96dc-5cecac446f8a",
   "metadata": {},
   "outputs": [],
   "source": [
    "Q5. How are DataFrame.size() and DataFrame.shape() different?\n",
    "Ans5-"
   ]
  },
  {
   "cell_type": "code",
   "execution_count": null,
   "id": "9fbe47dc-bad7-43b3-b031-5639924f80cd",
   "metadata": {},
   "outputs": [],
   "source": [
    "In Pandas, the `DataFrame.size` and `DataFrame.shape` are two different attributes that provide different information about a DataFrame.\n",
    "\n",
    "1. `DataFrame.size`:\n",
    "   - `DataFrame.size` returns the total number of elements in the DataFrame, which is equivalent to the number of rows multiplied by the number\n",
    "of columns.\n",
    "   - It gives the total size of the DataFrame, including all the elements in all the rows and columns.\n",
    "   - The size attribute returns a single value, an integer representing the total number of elements.\n",
    "\n",
    "2. `DataFrame.shape`:\n",
    "   - `DataFrame.shape` returns a tuple representing the dimensions of the DataFrame.\n",
    "   - It provides the number of rows followed by the number of columns in the DataFrame.\n",
    "   - The shape attribute returns a tuple of integers, typically in the format (rows, columns).\n",
    "\n",
    "To summarize, `DataFrame.size` gives the total number of elements in the DataFrame, while `DataFrame.shape` \n",
    "provides the dimensions of the DataFrame (number of rows and columns)."
   ]
  },
  {
   "cell_type": "code",
   "execution_count": null,
   "id": "1e44fb12-d804-44e9-b779-050861a3b8e4",
   "metadata": {},
   "outputs": [],
   "source": [
    "Q6. Which function of pandas do we use to read an excel file?\n",
    "Ans6-"
   ]
  },
  {
   "cell_type": "code",
   "execution_count": null,
   "id": "8e49c572-395d-450d-9550-24c5951f8891",
   "metadata": {},
   "outputs": [],
   "source": [
    "In Pandas, we can use the read_excel() function to read an Excel file. This function allows us to import data from an Excel file into a DataFrame, \n",
    "which is a popular data structure in Pandas for handling and manipulating tabular data."
   ]
  },
  {
   "cell_type": "code",
   "execution_count": null,
   "id": "8c06558b-999e-45f1-be4a-330f9bd7c2a3",
   "metadata": {},
   "outputs": [],
   "source": [
    "import pandas as pd\n",
    "\n",
    "# Read an Excel file\n",
    "df = pd.read_excel('filename.xlsx')\n",
    "\n",
    "# Display the DataFrame\n",
    "print(df)\n"
   ]
  },
  {
   "cell_type": "code",
   "execution_count": null,
   "id": "b70529bd-efb9-449a-a632-df823b3d0c7e",
   "metadata": {},
   "outputs": [],
   "source": [
    "Q7. You have a Pandas DataFrame df that contains a column named 'Email' that contains email\n",
    "addresses in the format 'username@domain.com'. Write a Python function that creates a new column\n",
    "'Username' in df that contains only the username part of each email address.\n",
    "The username is the part of the email address that appears before the '@' symbol. For example, if the\n",
    "email address is 'john.doe@example.com', the 'Username' column should contain 'john.doe'. Your\n",
    "function should extract the username from each email address and store it in the new 'Username'\n",
    "column.\n",
    "\n",
    "Ans7-"
   ]
  },
  {
   "cell_type": "code",
   "execution_count": 12,
   "id": "09908db8-f1f7-4487-81ca-2b8f133decdd",
   "metadata": {},
   "outputs": [
    {
     "name": "stdout",
     "output_type": "stream",
     "text": [
      "                    Email    Username\n",
      "0    john.doe@example.com    john.doe\n",
      "1  jane.smith@example.com  jane.smith\n"
     ]
    }
   ],
   "source": [
    "import pandas as pd\n",
    "\n",
    "def extract_username(df):\n",
    "    df['Username'] = df['Email'].str.split('@').str[0]\n",
    "    return df\n",
    "\n",
    "df = pd.DataFrame({'Email': ['john.doe@example.com', 'jane.smith@example.com']})\n",
    "df = extract_username(df)\n",
    "print(df)\n"
   ]
  },
  {
   "cell_type": "code",
   "execution_count": null,
   "id": "f5226d2d-4188-4782-8d4f-25bc02772536",
   "metadata": {},
   "outputs": [],
   "source": [
    "Q8. You have a Pandas DataFrame df with columns 'A', 'B', and 'C'. Write a Python function that selects\n",
    "all rows where the value in column 'A' is greater than 5 and the value in column 'B' is less than 10. The\n",
    "function should return a new DataFrame that contains only the selected rows.\n",
    "For example, if df contains the following values:\n",
    "  A B C\n",
    "0 3 5 1\n",
    "1 8 2 7\n",
    "2 6 9 4\n",
    "3 2 3 5\n",
    "4 9 1 2\n",
    "\n",
    "Assignment\n",
    "\n",
    "Data Science Masters\n",
    "\n",
    "Your function should select the following rows: A B C\n",
    "1 8 2 7\n",
    "4 9 1 2\n",
    "The function should return a new DataFrame that contains only the selected rows.\n",
    "\n",
    "Ans8-"
   ]
  },
  {
   "cell_type": "code",
   "execution_count": 18,
   "id": "dd705a80-659e-4046-9cd7-6a363e280ded",
   "metadata": {},
   "outputs": [],
   "source": [
    "import pandas as pd\n",
    "\n",
    "def select_rows(df):\n",
    "    selected_rows = df[(df['A'] > 6) & (df['B'] < 10)]\n",
    "    return selected_rows\n"
   ]
  },
  {
   "cell_type": "code",
   "execution_count": 19,
   "id": "eb6684bf-a3d6-44bb-9017-bb968bc9ce38",
   "metadata": {},
   "outputs": [
    {
     "name": "stdout",
     "output_type": "stream",
     "text": [
      "   A  B  C\n",
      "1  8  2  7\n",
      "4  9  1  2\n"
     ]
    }
   ],
   "source": [
    "# Example DataFrame\n",
    "df = pd.DataFrame({'A': [3, 8, 6, 2, 9],\n",
    "                   'B': [5, 2, 9, 3, 1],\n",
    "                   'C': [1, 7, 4, 5, 2]})\n",
    "\n",
    "selected_df = select_rows(df)\n",
    "print(selected_df)\n"
   ]
  },
  {
   "cell_type": "code",
   "execution_count": null,
   "id": "afe37a9d-a7fa-4273-b75c-f6f625d68c1d",
   "metadata": {},
   "outputs": [],
   "source": [
    "Q9. Given a Pandas DataFrame df with a column 'Values', write a Python function to calculate the mean,\n",
    "median, and standard deviation of the values in the 'Values' column.\n",
    "\n",
    "Ans9-"
   ]
  },
  {
   "cell_type": "code",
   "execution_count": 20,
   "id": "1dce4129-b7cd-4b62-a0b9-53da9eec0cf6",
   "metadata": {},
   "outputs": [],
   "source": [
    "import pandas as pd\n",
    "\n",
    "def calculate_statistics(df):\n",
    "    mean = df['Values'].mean()\n",
    "    median = df['Values'].median()\n",
    "    std_dev = df['Values'].std()\n",
    "    \n",
    "    return mean, median, std_dev\n"
   ]
  },
  {
   "cell_type": "code",
   "execution_count": 21,
   "id": "3ca93eca-409e-446f-a300-5555d2076e61",
   "metadata": {},
   "outputs": [
    {
     "name": "stdout",
     "output_type": "stream",
     "text": [
      "Mean: 15.0\n",
      "Median: 15.0\n",
      "Standard Deviation: 7.905694150420948\n"
     ]
    }
   ],
   "source": [
    "\n",
    "df = pd.DataFrame({'Values': [5, 10, 15, 20, 25]})\n",
    "\n",
    "mean, median, std_dev = calculate_statistics(df)\n",
    "\n",
    "print(\"Mean:\", mean)\n",
    "print(\"Median:\", median)\n",
    "print(\"Standard Deviation:\", std_dev)\n"
   ]
  },
  {
   "cell_type": "code",
   "execution_count": null,
   "id": "dab45904-4b4c-445c-8244-db1498e51898",
   "metadata": {},
   "outputs": [],
   "source": [
    "Q10. Given a Pandas DataFrame df with a column 'Sales' and a column 'Date', write a Python function to\n",
    "create a new column 'MovingAverage' that contains the moving average of the sales for the past 7 days\n",
    "for each row in the DataFrame. The moving average should be calculated using a window of size 7 and\n",
    "should include the current day.\n",
    "Ans10-"
   ]
  },
  {
   "cell_type": "code",
   "execution_count": 22,
   "id": "4e6d21d5-5f64-4fdb-b38e-9bb7b172ab69",
   "metadata": {},
   "outputs": [
    {
     "name": "stdout",
     "output_type": "stream",
     "text": [
      "         Date  Sales  MovingAverage\n",
      "0  2023-07-01     10           10.0\n",
      "1  2023-07-02     20           15.0\n",
      "2  2023-07-03     30           20.0\n",
      "3  2023-07-04     40           25.0\n",
      "4  2023-07-05     50           30.0\n",
      "5  2023-07-06     60           35.0\n",
      "6  2023-07-07     70           40.0\n",
      "7  2023-07-08     80           50.0\n"
     ]
    }
   ],
   "source": [
    "import pandas as pd\n",
    "\n",
    "def calculate_moving_average(df):\n",
    "    window_size = 7\n",
    "    df['MovingAverage'] = df['Sales'].rolling(window=window_size, min_periods=1).mean()\n",
    "    return df\n",
    "\n",
    "# Example usage:\n",
    "df = pd.DataFrame({'Date': ['2023-07-01', '2023-07-02', '2023-07-03', '2023-07-04', '2023-07-05',\n",
    "                            '2023-07-06', '2023-07-07', '2023-07-08'],\n",
    "                   'Sales': [10, 20, 30, 40, 50, 60, 70, 80]})\n",
    "\n",
    "df = calculate_moving_average(df)\n",
    "print(df)\n"
   ]
  },
  {
   "cell_type": "code",
   "execution_count": null,
   "id": "01f4d156-df3d-48e2-b03c-1ebbbb0a85be",
   "metadata": {},
   "outputs": [],
   "source": [
    "Q11. You have a Pandas DataFrame df with a column 'Date'. Write a Python function that creates a new\n",
    "column 'Weekday' in the DataFrame. The 'Weekday' column should contain the weekday name (e.g.\n",
    "Monday, Tuesday) corresponding to each date in the 'Date' column.\n",
    "For example, if df contains the following values:\n",
    "Date\n",
    "0 2023-01-01\n",
    "1 2023-01-02\n",
    "2 2023-01-03\n",
    "3 2023-01-04\n",
    "4 2023-01-05\n",
    "Your function should create the following DataFrame:\n",
    "\n",
    "Date Weekday\n",
    "0 2023-01-01 Sunday\n",
    "1 2023-01-02 Monday\n",
    "2 2023-01-03 Tuesday\n",
    "3 2023-01-04 Wednesday\n",
    "4 2023-01-05 Thursday\n",
    "The function should return the modified DataFrame.\n",
    "\n",
    "Ans11-"
   ]
  },
  {
   "cell_type": "code",
   "execution_count": 27,
   "id": "34505e56-ea51-407c-a756-eeab597d24b6",
   "metadata": {},
   "outputs": [],
   "source": [
    "import pandas as pd\n",
    "\n",
    "def add_weekday_column(df):\n",
    "    df['Weekday'] = pd.to_datetime(df['Date']).dt.day_name()\n",
    "    return df\n"
   ]
  },
  {
   "cell_type": "code",
   "execution_count": 28,
   "id": "79123ddd-fcf8-492c-890e-30f930d915b5",
   "metadata": {},
   "outputs": [
    {
     "name": "stdout",
     "output_type": "stream",
     "text": [
      "         Date    Weekday\n",
      "0  2023-01-01     Sunday\n",
      "1  2023-01-02     Monday\n",
      "2  2023-01-03    Tuesday\n",
      "3  2023-01-04  Wednesday\n",
      "4  2023-01-05   Thursday\n"
     ]
    }
   ],
   "source": [
    "import pandas as pd\n",
    "\n",
    "\n",
    "df = pd.DataFrame({'Date': ['2023-01-01', '2023-01-02', '2023-01-03', '2023-01-04', '2023-01-05']})\n",
    "\n",
    "df = add_weekday_column(df)\n",
    "\n",
    "print(df)\n"
   ]
  },
  {
   "cell_type": "code",
   "execution_count": null,
   "id": "ab8dfe34-e929-45b0-8919-7086b73ec601",
   "metadata": {},
   "outputs": [],
   "source": [
    "Q12. Given a Pandas DataFrame df with a column 'Date' that contains timestamps, write a Python\n",
    "function to select all rows where the date is between '2023-01-01' and '2023-01-31'.\n",
    "Ans12-\n"
   ]
  },
  {
   "cell_type": "code",
   "execution_count": 37,
   "id": "673fb852-7fa0-4dd1-bf6b-50a919a748d2",
   "metadata": {},
   "outputs": [],
   "source": [
    "import pandas as pd\n",
    "\n",
    "def select_rows_between_dates(df):\n",
    "    df['Date'] = pd.to_datetime(df['Date'])  \n",
    "    mask = (df['Date'] >= pd.to_datetime('2023-01-01')) & (df['Date'] <= pd.to_datetime('2023-01-31'))  \n",
    "    selected_rows = df.loc[mask]  \n",
    "    return selected_rows\n"
   ]
  },
  {
   "cell_type": "code",
   "execution_count": 39,
   "id": "a9926f94-6b85-4c17-9040-fee5bf42ff74",
   "metadata": {},
   "outputs": [],
   "source": [
    "selected_df = select_rows_between_dates(df)"
   ]
  },
  {
   "cell_type": "code",
   "execution_count": null,
   "id": "10d107a3-8252-4018-8ba4-cf324d84fd43",
   "metadata": {},
   "outputs": [],
   "source": [
    "Q13. To use the basic functions of pandas, what is the first and foremost necessary library that needs to\n",
    "be imported?\n",
    "Ans13-"
   ]
  },
  {
   "cell_type": "code",
   "execution_count": null,
   "id": "13c32181-5bf3-4143-928c-148b050df253",
   "metadata": {},
   "outputs": [],
   "source": [
    "To use the basic functions of pandas, the first and foremost library that needs to be imported is the pandas library itself.\n",
    "In Python, you can import pandas using the following statement:\n",
    "\n",
    "import pandas as pd\n",
    "\n",
    "The `pd` alias is a commonly used convention for referring to the pandas library. Once imported, you can access the various \n",
    "functions and data structures provided by pandas, such as data manipulation, analysis, and cleaning operations."
   ]
  },
  {
   "cell_type": "code",
   "execution_count": null,
   "id": "b565fdec-3a68-4c45-9317-148c95847a93",
   "metadata": {},
   "outputs": [],
   "source": []
  }
 ],
 "metadata": {
  "kernelspec": {
   "display_name": "Python 3 (ipykernel)",
   "language": "python",
   "name": "python3"
  },
  "language_info": {
   "codemirror_mode": {
    "name": "ipython",
    "version": 3
   },
   "file_extension": ".py",
   "mimetype": "text/x-python",
   "name": "python",
   "nbconvert_exporter": "python",
   "pygments_lexer": "ipython3",
   "version": "3.10.8"
  }
 },
 "nbformat": 4,
 "nbformat_minor": 5
}
